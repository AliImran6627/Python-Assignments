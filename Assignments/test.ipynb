{
 "cells": [
  {
   "cell_type": "code",
   "execution_count": 6,
   "metadata": {},
   "outputs": [
    {
     "name": "stdout",
     "output_type": "stream",
     "text": [
      "Hello Hamza, you are invited to dinner at my place\n",
      "Hello Dabeer, you are invited to dinner at my place\n",
      "Hello Moeez, you are invited to dinner at my place\n",
      "None\n",
      "Hello Hamza, you are invited to dinner at my place\n",
      "Hello Dabeer, you are invited to dinner at my place\n",
      "Hello Moeez, you are invited to dinner at my place\n",
      "Hello y, you are invited to dinner at my place\n"
     ]
    }
   ],
   "source": [
    "myList = [\"Hamza\", \"Dabeer\", \"Moeez\"]\n",
    "print(f\"Hello {myList[0]}, you are invited to dinner at my place\")\n",
    "print(f\"Hello {myList[1]}, you are invited to dinner at my place\")\n",
    "print(f\"Hello {myList[2]}, you are invited to dinner at my place\")\n",
    "x = myList.\n",
    "print(x)\n",
    "for name in myList:\n",
    "    print(f\"Hello {name}, you are invited to dinner at my place\")"
   ]
  }
 ],
 "metadata": {
  "kernelspec": {
   "display_name": "Python 3",
   "language": "python",
   "name": "python3"
  },
  "language_info": {
   "codemirror_mode": {
    "name": "ipython",
    "version": 3
   },
   "file_extension": ".py",
   "mimetype": "text/x-python",
   "name": "python",
   "nbconvert_exporter": "python",
   "pygments_lexer": "ipython3",
   "version": "3.12.4"
  }
 },
 "nbformat": 4,
 "nbformat_minor": 2
}
