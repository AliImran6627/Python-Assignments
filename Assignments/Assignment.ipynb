{
 "cells": [
  {
   "cell_type": "code",
   "execution_count": 2,
   "metadata": {},
   "outputs": [
    {
     "name": "stdout",
     "output_type": "stream",
     "text": [
      "Hamza\n",
      "Owais\n",
      "Moeez\n"
     ]
    }
   ],
   "source": [
    "name_list = [\"Hamza\", \"Moeez\", \"Owais\"]\n",
    "print(name_list[0])\n",
    "print(name_list[2])\n",
    "print(name_list[1])"
   ]
  },
  {
   "cell_type": "code",
   "execution_count": 3,
   "metadata": {},
   "outputs": [
    {
     "name": "stdout",
     "output_type": "stream",
     "text": [
      "Hello, Hamza\n",
      "Hello, Owais\n",
      "Hello, Moeez\n"
     ]
    }
   ],
   "source": [
    "print(f\"Hello, {name_list[0]}\")\n",
    "print(f\"Hello, {name_list[2]}\")\n",
    "print(f\"Hello, {name_list[1]}\")"
   ]
  },
  {
   "cell_type": "code",
   "execution_count": 4,
   "metadata": {},
   "outputs": [
    {
     "name": "stdout",
     "output_type": "stream",
     "text": [
      "I want a bike from Honda\n",
      "I want a bike from Suzuki\n",
      "I want a bike from Yamaha\n"
     ]
    }
   ],
   "source": [
    "bike_list = [\n",
    "    \"Honda\",\n",
    "    \"Suzuki\",\n",
    "    \"Yamaha\"\n",
    "]\n",
    "for i in bike_list:\n",
    "    print(f\"I want a bike from {i}\")"
   ]
  },
  {
   "cell_type": "code",
   "execution_count": 5,
   "metadata": {},
   "outputs": [
    {
     "name": "stdout",
     "output_type": "stream",
     "text": [
      "Albert Einstein, you are invited to dinner at my residence\n",
      "Isaac Newton, you are invited to dinner at my residence\n",
      "Muhammad Ali, you are invited to dinner at my residence\n"
     ]
    }
   ],
   "source": [
    "guest_List = [\n",
    "    \"Albert Einstein\",\n",
    "    \"Isaac Newton\",\n",
    "    \"Muhammad Ali\"\n",
    "]\n",
    "for i in guest_List:\n",
    "    print(f\"{i}, you are invited to dinner at my residence\")"
   ]
  },
  {
   "cell_type": "code",
   "execution_count": 6,
   "metadata": {},
   "outputs": [
    {
     "name": "stdout",
     "output_type": "stream",
     "text": [
      "Isaac Newton is unable to attend the dinner party\n",
      "None, you are invited to dinner at my house\n"
     ]
    }
   ],
   "source": [
    "cant_attend = \"Isaac Newton\"\n",
    "print(f\"{cant_attend} is unable to attend the dinner party\")\n",
    "myIndex = guest_List.index(cant_attend)\n",
    "guest_List.remove(cant_attend)\n",
    "y = guest_List.insert(myIndex, \"Yukio Mishima\")\n",
    "print(f\"{y}, you are invited to dinner at my house\")"
   ]
  },
  {
   "cell_type": "code",
   "execution_count": 7,
   "metadata": {},
   "outputs": [
    {
     "name": "stdout",
     "output_type": "stream",
     "text": [
      "A bigger table has been found\n",
      "Nikola Tesla, you are invited to dinner at my residence\n",
      "Albert Einstein, you are invited to dinner at my residence\n",
      "Keanu Reeves, you are invited to dinner at my residence\n",
      "Yukio Mishima, you are invited to dinner at my residence\n",
      "Muhammad Ali, you are invited to dinner at my residence\n",
      "Niels Bohr, you are invited to dinner at my residence\n"
     ]
    }
   ],
   "source": [
    "print(\"A bigger table has been found\")\n",
    "guest_List.insert(0, \"Nikola Tesla\")\n",
    "guest_List.insert(2, \"Keanu Reeves\")\n",
    "guest_List.append(\"Niels Bohr\")\n",
    "for i in guest_List:\n",
    "    print(f\"{i}, you are invited to dinner at my residence\")"
   ]
  },
  {
   "cell_type": "code",
   "execution_count": 8,
   "metadata": {},
   "outputs": [
    {
     "name": "stdout",
     "output_type": "stream",
     "text": [
      "Only two people may be invited for dinner\n",
      "Niels Bohr, you are no longer invited to the dinner party\n",
      "Muhammad Ali, you are no longer invited to the dinner party\n",
      "Yukio Mishima, you are no longer invited to the dinner party\n",
      "Keanu Reeves, you are no longer invited to the dinner party\n",
      "['Nikola Tesla', 'Albert Einstein']\n",
      "Nikola Tesla, you are still invited to the dinner party\n",
      "Albert Einstein, you are still invited to the dinner party\n",
      "[]\n"
     ]
    }
   ],
   "source": [
    "print(\"Only two people may be invited for dinner\")\n",
    "\n",
    "while len(guest_List) > 2:\n",
    "    removed = guest_List.pop()\n",
    "    print(f\"{removed}, you are no longer invited to the dinner party\")\n",
    "print(guest_List)\n",
    "for i in  guest_List:\n",
    "    print(f\"{i}, you are still invited to the dinner party\")\n",
    "\n",
    "del guest_List[0:2]\n",
    "print(guest_List)"
   ]
  },
  {
   "cell_type": "code",
   "execution_count": 9,
   "metadata": {},
   "outputs": [
    {
     "name": "stdout",
     "output_type": "stream",
     "text": [
      "['Paris', 'Switzerland', 'Germany']\n",
      "['Germany', 'Paris', 'Switzerland']\n",
      "['Paris', 'Switzerland', 'Germany']\n",
      "['Switzerland', 'Paris', 'Germany']\n",
      "['Paris', 'Switzerland', 'Germany']\n",
      "['Germany', 'Switzerland', 'Paris']\n",
      "['Paris', 'Switzerland', 'Germany']\n",
      "['Germany', 'Paris', 'Switzerland']\n",
      "['Switzerland', 'Paris', 'Germany']\n"
     ]
    }
   ],
   "source": [
    "the_world = [\n",
    "    \"Paris\",\n",
    "    \"Switzerland\",\n",
    "    \"Germany\",\n",
    "]\n",
    "print(the_world)\n",
    "print(sorted(the_world))\n",
    "print(the_world)\n",
    "print(sorted(the_world, reverse=True))\n",
    "print(the_world)\n",
    "the_world.reverse()\n",
    "print(the_world)\n",
    "the_world.reverse()\n",
    "print(the_world)\n",
    "the_world.sort()\n",
    "print(the_world)\n",
    "the_world.sort(reverse=True)\n",
    "print(the_world)"
   ]
  },
  {
   "cell_type": "code",
   "execution_count": 10,
   "metadata": {},
   "outputs": [
    {
     "name": "stdout",
     "output_type": "stream",
     "text": [
      "['English', 'Arabic', 'German', 'French', 'Russian']\n",
      "['Arabic', 'English', 'French', 'German', 'Russian']\n",
      "['English', 'Arabic', 'German', 'French', 'Russian']\n",
      "['Russian', 'German', 'French', 'English', 'Arabic']\n",
      "['English', 'Arabic', 'German', 'French', 'Russian']\n",
      "['Russian', 'French', 'German', 'Arabic', 'English']\n",
      "['English', 'Arabic', 'German', 'French', 'Russian']\n",
      "['Arabic', 'English', 'French', 'German', 'Russian']\n",
      "['Russian', 'German', 'French', 'English', 'Arabic']\n",
      "['Arabic', 'English', 'French', 'German', 'Russian']\n",
      "['French', 'German', 'Russian']\n",
      "DOWN HERE\n",
      "None\n",
      "['Chinese', 'Urdu', 'Japanese', 'German']\n"
     ]
    }
   ],
   "source": [
    "language_list = [\n",
    "    \"English\",\n",
    "    \"Arabic\",\n",
    "    \"German\",\n",
    "    \"French\",\n",
    "    \"Russian\"\n",
    "]\n",
    "print(language_list)\n",
    "print(sorted(language_list))\n",
    "print(language_list)\n",
    "print(sorted(language_list, reverse=True))\n",
    "print(language_list)\n",
    "language_list.reverse()\n",
    "print(language_list)\n",
    "language_list.reverse()\n",
    "print(language_list)\n",
    "language_list.sort()\n",
    "print(language_list)\n",
    "language_list.sort(reverse=True)\n",
    "print(language_list)\n",
    "language_list.reverse()\n",
    "print(language_list)\n",
    "del language_list[0:2]\n",
    "print(language_list)\n",
    "language_list.insert(0, \"Urdu\")\n",
    "language_list.insert(1, \"Japanese\")\n",
    "testing = language_list.insert(0, \"Chinese\")\n",
    "print(\"DOWN HERE\")\n",
    "print(testing)\n",
    "language_list.pop()\n",
    "language_list.remove(\"French\")\n",
    "print(language_list)\n"
   ]
  }
 ],
 "metadata": {
  "kernelspec": {
   "display_name": "Python 3",
   "language": "python",
   "name": "python3"
  },
  "language_info": {
   "codemirror_mode": {
    "name": "ipython",
    "version": 3
   },
   "file_extension": ".py",
   "mimetype": "text/x-python",
   "name": "python",
   "nbconvert_exporter": "python",
   "pygments_lexer": "ipython3",
   "version": "3.12.4"
  }
 },
 "nbformat": 4,
 "nbformat_minor": 2
}
